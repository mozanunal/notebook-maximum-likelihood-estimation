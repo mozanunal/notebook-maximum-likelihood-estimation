{
 "cells": [
  {
   "cell_type": "markdown",
   "metadata": {},
   "source": [
    "# Notebook for Maximum Likelihood Estimation\n",
    "In this notebook following aspects of this estimation will be examined.\n",
    "\n",
    "- accuracy\n",
    "- bias\n",
    "\n"
   ]
  },
  {
   "cell_type": "markdown",
   "metadata": {},
   "source": [
    "##  1.Create Simulation Enviroment\n",
    "\n",
    "In this example $Y=AX+N$ simulation enviroment will be created.\n",
    "In this equation:\n",
    "- Y is the observation\n",
    "- A is system geometry parameters\n",
    "- X is varible (the thing which is observed )\n",
    "- N is randomly distrubuted zero mean gaussian noise\n",
    "\n",
    "Size of this vector and matrices are:\n",
    "$$ Y_{mx1}=A_{mxn}X_{nx1} + N_{mx1} $$\n",
    "\n",
    "\n",
    "now contiune with code.\n",
    "\n",
    "#### Import libraries\n"
   ]
  },
  {
   "cell_type": "code",
   "execution_count": null,
   "metadata": {},
   "outputs": [],
   "source": [
    "\n",
    "import numpy as np\n",
    "import matplotlib.pyplot as plt\n",
    "from scipy import misc\n",
    "\n",
    "#plt.rcParams['figure.figsize'] = [10, 5]\n",
    "%matplotlib inline "
   ]
  },
  {
   "cell_type": "markdown",
   "metadata": {},
   "source": [
    "#### Create X and sizes\n",
    "- X will be read from image and converted to vector\n",
    "- X will be resized to (K,L) and normalized to between 0-1\n",
    "- size of the image is (K,L) so n should be K*L\n"
   ]
  },
  {
   "cell_type": "code",
   "execution_count": null,
   "metadata": {
    "scrolled": false
   },
   "outputs": [],
   "source": [
    "K = 100\n",
    "L = 100\n",
    "m = int(1.2*K*L)\n",
    "n = K*L\n",
    "\n",
    "# Create X read image\n",
    "X_image = misc.imread('test/test1.jpg', mode=\"L\") # grayscale mode\n",
    "X_image = misc.imresize(X_image, (K,L))/ 255\n",
    "#convert to vector\n",
    "def toVector(a):\n",
    "    return a.reshape(-1,1) \n",
    "    \n",
    "def toImage(a):\n",
    "    return a.reshape(K,L)\n",
    "\n",
    "X = toVector(X_image)\n",
    "plt.figure()\n",
    "plt.imshow(X_image)\n",
    "print(X_image)"
   ]
  },
  {
   "cell_type": "markdown",
   "metadata": {},
   "source": [
    "#### Create Noise\n",
    "\n",
    "Gaussian noise is defined using mean and varience.\n",
    "For this simulation mean is selected as 0"
   ]
  },
  {
   "cell_type": "code",
   "execution_count": null,
   "metadata": {
    "scrolled": true
   },
   "outputs": [],
   "source": [
    "N =  (np.random.rand(m,1)-0.5) "
   ]
  },
  {
   "cell_type": "markdown",
   "metadata": {},
   "source": [
    "#### Create Y and A at suitable dimesion\n",
    "- A is generated randomly\n",
    "- to calculate Y formula is $Y=AX+N$"
   ]
  },
  {
   "cell_type": "code",
   "execution_count": null,
   "metadata": {},
   "outputs": [],
   "source": [
    "\n",
    "A = np.random.rand(m,n)\n",
    "Y = A @ X + N\n",
    "\n",
    "print( np.shape(Y), np.shape(A), np.shape(X), np.shape(N) )\n"
   ]
  },
  {
   "cell_type": "markdown",
   "metadata": {},
   "source": [
    "## 2. Calculate maximum likelihood\n",
    "Maximum likelihood is calculated using this formula\n",
    "\n",
    "$$X_{ml} = (A^TA)^{-1}.A^T.Y$$\n"
   ]
  },
  {
   "cell_type": "code",
   "execution_count": null,
   "metadata": {},
   "outputs": [],
   "source": [
    "Xml =  np.linalg.inv(A.transpose() @ A ) @ A.transpose() @ Y\n"
   ]
  },
  {
   "cell_type": "code",
   "execution_count": null,
   "metadata": {},
   "outputs": [],
   "source": [
    "fig = plt.figure()\n",
    "ax1 = fig.add_subplot(121)\n",
    "ax1.imshow(toImage(X))\n",
    "ax2 = fig.add_subplot(122)\n",
    "ax2.imshow(toImage(Xml))\n",
    "ax1.title.set_text('Original Image')\n",
    "ax2.title.set_text('Estimated Image')\n",
    "plt.show()"
   ]
  },
  {
   "cell_type": "markdown",
   "metadata": {},
   "source": [
    "#### This simulation should be converted to function to easily run"
   ]
  },
  {
   "cell_type": "code",
   "execution_count": null,
   "metadata": {},
   "outputs": [],
   "source": [
    "def calculateMaxlikelihood(A, X):\n",
    "    # every time new noise will be generated randomly\n",
    "    N =  (np.random.rand(m,1)-0.5)\n",
    "    Y = A@X + N\n",
    "    # return Xml\n",
    "    return  np.linalg.inv(A.transpose() @ A ) @ A.transpose() @ Y\n",
    "\n",
    "\n",
    "K = 10\n",
    "L = 10\n",
    "m = int(1.2*K*L)\n",
    "n = K*L\n",
    "\n",
    "# Create X read image\n",
    "X_image = misc.imread('test/test1.jpg', mode=\"L\") # grayscale mode\n",
    "X_image = misc.imresize(X_image, (K,L))/ 255\n",
    "#convert to vector\n",
    "def toVector(a):\n",
    "    return a.reshape(-1,1) \n",
    "    \n",
    "def toImage(a):\n",
    "    return a.reshape(K,L)\n",
    "\n",
    "X = toVector(X_image)\n",
    "A = np.random.rand(m,n)\n",
    "print( np.shape(Y), np.shape(A), np.shape(X), np.shape(N) )\n",
    "\n",
    "    "
   ]
  },
  {
   "cell_type": "markdown",
   "metadata": {},
   "source": [
    "## 2. Bias of maximum likelihood\n",
    "Bias of maximum likelihood calculated as:\n",
    "\n",
    "Theoritical bias of maximum likelihood is zero. It can be calculated as:\n",
    "\n",
    "Therefore the real bias should be decrease with increase of tries\n"
   ]
  },
  {
   "cell_type": "code",
   "execution_count": null,
   "metadata": {},
   "outputs": [],
   "source": [
    "def calculcateBias(x, xml):\n",
    "    B = x-xml\n",
    "    return np.sum(B)/len(x)\n",
    "    "
   ]
  },
  {
   "cell_type": "markdown",
   "metadata": {},
   "source": [
    "Run simulation 100.000 times and save all bias to an array"
   ]
  },
  {
   "cell_type": "code",
   "execution_count": null,
   "metadata": {},
   "outputs": [],
   "source": [
    "biasArr = [] \n",
    "for i in range(100000):\n",
    "    curTryBias = calculcateBias(X, calculateMaxlikelihood(A,X))\n",
    "    biasArr.append(curTryBias)\n",
    "plt.figure()    \n"
   ]
  },
  {
   "cell_type": "code",
   "execution_count": null,
   "metadata": {},
   "outputs": [],
   "source": [
    "sample10 = np.sum( biasArr[0:10] )/10\n",
    "sample100 = np.sum( biasArr[0:100] )/100\n",
    "sample1_000 = np.sum( biasArr[0:1000] )/1000\n",
    "sample10_000 = np.sum( biasArr[0:10000] )/10000\n",
    "sample100_000 = np.sum( biasArr[0:100000] )/100000\n",
    "\n",
    "biasSampleArr = np.abs([sample10, sample100, sample1_000, sample10_000, sample100_000])\n",
    "print( biasSampleArr )\n",
    "plt.figure()\n",
    "plt.plot(biasSampleArr)\n",
    "plt.show()"
   ]
  },
  {
   "cell_type": "markdown",
   "metadata": {},
   "source": [
    "## 3. Varience of maximum likelihood\n",
    "Varience of estimations calculated as:\n",
    "\n",
    "$$\n",
    "varience = \\frac1{n} \\sum\\limits_{i=1}^n(x_i - \\overline{x})^2 \n",
    "$$\n"
   ]
  },
  {
   "cell_type": "code",
   "execution_count": null,
   "metadata": {},
   "outputs": [],
   "source": [
    "def calculateVarience(x, xml):\n",
    "    V = np.square(x-xml) \n",
    "    return V.mean()"
   ]
  },
  {
   "cell_type": "markdown",
   "metadata": {},
   "source": [
    "Run simulation 100.000 times and save all varience to an array"
   ]
  },
  {
   "cell_type": "code",
   "execution_count": null,
   "metadata": {},
   "outputs": [],
   "source": [
    "varArr = [] \n",
    "for i in range(100000):\n",
    "    curTryVar = calculateVarience(X, calculateMaxlikelihood(A,X))\n",
    "    varArr.append(curTryVar)\n",
    "plt.figure()\n",
    "plt.plot(varArr)\n",
    "    "
   ]
  },
  {
   "cell_type": "code",
   "execution_count": null,
   "metadata": {},
   "outputs": [],
   "source": [
    "sample10 = np.sum( varArr[0:10] )/10\n",
    "sample100 = np.sum( varArr[0:100] )/100\n",
    "sample1_000 = np.sum( varArr[0:1000] )/1000\n",
    "sample10_000 = np.sum( varArr[0:10000] )/10000\n",
    "sample100_000 = np.sum( varArr[0:100000] )/100000\n",
    "\n",
    "varSampleArr = np.abs([sample10, sample100, sample1_000, sample10_000, sample100_000])\n",
    "print( varSampleArr )\n",
    "plt.figure()\n",
    "plt.plot(varSampleArr)\n",
    "plt.show()"
   ]
  },
  {
   "cell_type": "code",
   "execution_count": null,
   "metadata": {},
   "outputs": [],
   "source": []
  }
 ],
 "metadata": {
  "kernelspec": {
   "display_name": "Python 3",
   "language": "python",
   "name": "python3"
  },
  "language_info": {
   "codemirror_mode": {
    "name": "ipython",
    "version": 3
   },
   "file_extension": ".py",
   "mimetype": "text/x-python",
   "name": "python",
   "nbconvert_exporter": "python",
   "pygments_lexer": "ipython3",
   "version": "3.6.8"
  }
 },
 "nbformat": 4,
 "nbformat_minor": 2
}
