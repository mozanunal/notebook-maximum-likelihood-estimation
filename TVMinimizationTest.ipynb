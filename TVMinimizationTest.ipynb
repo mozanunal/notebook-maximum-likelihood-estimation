{
 "cells": [
  {
   "cell_type": "markdown",
   "metadata": {},
   "source": [
    "# TV Minimization\n",
    "\n",
    "\n",
    "In this example $Y=AX+N$ simulation enviroment will be created.\n",
    "In this equation:\n",
    "- Y is the observation\n",
    "- A is system geometry parameters\n",
    "- X is varible (the thing which is observed )\n",
    "- N is randomly distrubuted zero mean gaussian noise\n",
    "\n",
    "Size of this vector and matrices are:\n",
    "$$ Y_{mx1}=A_{mxn}X_{nx1} + N_{mx1} $$\n",
    "\n",
    "\n",
    "now contiune with code.\n",
    "\n",
    "\n",
    "## 1. Configuration\n",
    "\n",
    "### Import libraries\n"
   ]
  },
  {
   "cell_type": "code",
   "execution_count": null,
   "metadata": {},
   "outputs": [],
   "source": [
    "\n",
    "import numpy as np\n",
    "import matplotlib.pyplot as plt\n",
    "from PIL import Image\n",
    "%matplotlib inline \n",
    "\n",
    "plt.rcParams['figure.figsize'] = [16, 10]\n",
    "plt.gray()\n"
   ]
  },
  {
   "cell_type": "markdown",
   "metadata": {},
   "source": [
    "### Helper functions"
   ]
  },
  {
   "cell_type": "code",
   "execution_count": null,
   "metadata": {},
   "outputs": [],
   "source": [
    "\n",
    "def normalize(a):\n",
    "    return a/255\n",
    "\n",
    "def denormalize(a):\n",
    "    return a*255\n",
    "\n",
    "# image to matrix\n",
    "def i2m(a):\n",
    "    return np.array(a)/255\n",
    "\n",
    "# matrix to image\n",
    "def m2i(a):\n",
    "    return Image.fromarray(a*255).convert(\"L\")\n"
   ]
  },
  {
   "cell_type": "markdown",
   "metadata": {},
   "source": [
    "### Params"
   ]
  },
  {
   "cell_type": "code",
   "execution_count": null,
   "metadata": {},
   "outputs": [],
   "source": [
    "EPS = 0.0000000001 # epsilon\n",
    "BETA =  0.2 #\n",
    "LEARNING_RATE = 0.001"
   ]
  },
  {
   "cell_type": "markdown",
   "metadata": {},
   "source": [
    "## 2. Init\n",
    "\n",
    "To simulate the problem the following equation is defined\n",
    "\n",
    "$ Y = X + N $\n",
    "\n",
    "where:\n",
    "- X is the real & non-noisy image ( It is the varible which should be estimated )\n",
    "- N is random gaussion noise\n",
    "- Y is the observation\n"
   ]
  },
  {
   "cell_type": "code",
   "execution_count": null,
   "metadata": {},
   "outputs": [],
   "source": [
    "Xreal = i2m(Image.open('test/phantom.png').convert('L'))\n",
    "pixelSizeX, pixelSizeY = np.shape(Xreal)\n",
    "noise = np.random.rand(pixelSizeX, pixelSizeY) * 0.2\n",
    "\n",
    "Y = Xreal + noise"
   ]
  },
  {
   "cell_type": "code",
   "execution_count": null,
   "metadata": {},
   "outputs": [],
   "source": [
    "m2i(Y)"
   ]
  },
  {
   "cell_type": "markdown",
   "metadata": {},
   "source": [
    "## 3. Cost function"
   ]
  },
  {
   "cell_type": "markdown",
   "metadata": {},
   "source": [
    "### Define TV\n",
    "\n",
    "Tv\n",
    "\n",
    "$\n",
    "T V_{2 D}(X)=\\sum_{i}^{K} \\sum_{j}^{L} \\sqrt{\\left(X_{i, j}-X_{i-1, j}\\right)^{2}+\\left(X_{i, j}-X_{i, j-1}\\right)^{2}}\n",
    "$\n",
    "\n",
    "Gradient of tv\n",
    "\n",
    "$Grad(X)=\\frac{2\\left(X_{i, j}-X_{i-1, j}\\right)+2\\left(X_{i j}-X_{i j-1}\\right)}{\\sqrt{\\left(X_{i, j}-X_{i-1, j}\\right)^{2}+\\left(X_{i, j}-X_{i, j-1}\\right)^{2}+\\varepsilon}}\n",
    "-\\frac{2\\left(X_{i+1, j}-X_{i, j}\\right)}{\\sqrt{\\left(X_{i+1, j}-X_{i, j}\\right)^{2}+\\left(X_{i+1, j}-X_{i+1, j-1}\\right)^{2}+\\varepsilon}}\n",
    "-\\frac{2\\left(X_{i, j+1}-X_{i, j}\\right)}{\\sqrt{\\left(X_{i, j+1}-X_{i, j}\\right)^{2}+\\left(X_{i, j+1}-X_{i-1, j+1}\\right)^{2}+\\varepsilon}}\n",
    "$"
   ]
  },
  {
   "cell_type": "code",
   "execution_count": null,
   "metadata": {},
   "outputs": [],
   "source": [
    "def tvNorm(x):\n",
    "    \"\"\"Computes the total variation norm and its gradient. From jcjohnson/cnn-vis.\"\"\"\n",
    "    x_diff = x - np.roll(x, -1, axis=1)\n",
    "    y_diff = x - np.roll(x, -1, axis=0)\n",
    "    grad_norm2 = x_diff**2 + y_diff**2 + EPS\n",
    "    norm = np.sum(np.sqrt(grad_norm2))\n",
    "    return norm\n",
    "\n",
    "def tvGrad(x):\n",
    "    \"\"\"Computes the total variation norm and its gradient. From jcjohnson/cnn-vis.\"\"\"\n",
    "    x_diff = x - np.roll(x, -1, axis=1)\n",
    "    y_diff = x - np.roll(x, -1, axis=0)\n",
    "    grad_norm2 = x_diff**2 + y_diff**2 + EPS\n",
    "    dgrad_norm = 0.5 / np.sqrt(grad_norm2)\n",
    "    dx_diff = 2 * x_diff * dgrad_norm\n",
    "    dy_diff = 2 * y_diff * dgrad_norm\n",
    "    grad = dx_diff + dy_diff\n",
    "    grad[:, 1:] -= dx_diff[:, :-1]\n",
    "    grad[1:, :] -= dy_diff[:-1, :]\n",
    "    return grad\n",
    "\n",
    "\n",
    "def l2Norm(x):\n",
    "    \"\"\"Computes 1/2 the square of the L2-norm and its gradient.\"\"\"\n",
    "    return np.sum(x**2) / 2\n",
    "\n",
    "def l2NormGrad(x):\n",
    "    return x\n"
   ]
  },
  {
   "cell_type": "code",
   "execution_count": null,
   "metadata": {},
   "outputs": [],
   "source": [
    "plt.rcParams['figure.figsize'] = [16, 10]\n",
    "\n",
    "fig = plt.figure()\n",
    "\n",
    "ax = fig.add_subplot(121)\n",
    "ax.title.set_text('Original Image Variation on X Axis')\n",
    "ax.imshow(m2i(Xreal-np.roll(Xreal, -1, axis=1)))\n",
    "\n",
    "ax = fig.add_subplot(122)\n",
    "ax.title.set_text('Noisy Image Variation on X Axis')\n",
    "ax.imshow(m2i(Y-np.roll(Y, -1, axis=1)))\n",
    "\n",
    "plt.show()"
   ]
  },
  {
   "cell_type": "code",
   "execution_count": null,
   "metadata": {},
   "outputs": [],
   "source": [
    "testMatrix =  np.arange(9).reshape(3,3)\n",
    "tvGrad(testMatrix)\n",
    "#testMatrix"
   ]
  },
  {
   "cell_type": "code",
   "execution_count": null,
   "metadata": {},
   "outputs": [],
   "source": [
    "plt.rcParams['figure.figsize'] = [16, 10]\n",
    "\n",
    "fig = plt.figure()\n",
    "\n",
    "ax = fig.add_subplot(121)\n",
    "ax.title.set_text('Original Image')\n",
    "ax.imshow(m2i(tvGrad(Xreal)))\n",
    "\n",
    "ax = fig.add_subplot(122)\n",
    "ax.title.set_text('Noisy Image')\n",
    "ax.imshow(m2i(tvGrad(Y)))\n",
    "\n",
    "plt.show()"
   ]
  },
  {
   "cell_type": "markdown",
   "metadata": {},
   "source": [
    "### Define Cost Function\n",
    "\n",
    "$\\hat{X}=\\underset{X}{\\arg \\min }\\left[\\|Y- X\\|_{2}+\\beta T V(X)\\right]$"
   ]
  },
  {
   "cell_type": "code",
   "execution_count": null,
   "metadata": {},
   "outputs": [],
   "source": [
    "def tvCost(Y, X, beta):\n",
    "    return l2Norm(Y-X) + beta * tvNorm(X)\n",
    "\n",
    "def tvCostGrad(Y, X, beta):\n",
    "    return l2NormGrad(Y-X) + beta * tvGrad(X)"
   ]
  },
  {
   "cell_type": "code",
   "execution_count": null,
   "metadata": {},
   "outputs": [],
   "source": [
    "X0 = np.zeros((pixelSizeX, pixelSizeY))\n",
    "tvNorm(Y), tvGrad(Y)"
   ]
  },
  {
   "cell_type": "markdown",
   "metadata": {},
   "source": [
    "## 4. Minimization"
   ]
  },
  {
   "cell_type": "markdown",
   "metadata": {},
   "source": [
    "### Gradient Descent\n",
    "\n",
    "Generic form of gradient descent.\n",
    "\n",
    "$X^{k+1} = X^k - \\alpha \\nabla Cost$\n",
    "\n",
    "Gradient descent method for tv\n",
    "\n",
    "$X^{k+1} = X^k - \\alpha \\nabla( |Y- X\\|_{2}+\\beta T V(X) ) $\n"
   ]
  },
  {
   "cell_type": "code",
   "execution_count": null,
   "metadata": {},
   "outputs": [],
   "source": [
    "BETA =  0.3 #\n",
    "LEARNING_RATE = 0.001\n",
    "\n",
    "Xk = Y#np.random.rand(pixelSizeX, pixelSizeY)\n",
    "\n",
    "for i in range(1000):\n",
    "    if i%10 == 0:\n",
    "        print(i, tvCost(Y, Xk, BETA))\n",
    "        m2i(Xk)\n",
    "    Xnext = Xk - LEARNING_RATE * tvCostGrad(Y, Xk, BETA)\n",
    "    if tvCost(Y, Xk, BETA) < tvCost(Y, Xnext, BETA):\n",
    "        break\n",
    "    \n",
    "    # init for next iteration\n",
    "    Xk = Xnext\n",
    "\n",
    "\n",
    "m2i(Xk)"
   ]
  },
  {
   "cell_type": "markdown",
   "metadata": {},
   "source": [
    "### Sum all up"
   ]
  },
  {
   "cell_type": "code",
   "execution_count": null,
   "metadata": {},
   "outputs": [],
   "source": [
    "def denoiseTV(X0, beta=BETA, maxIter=1000):\n",
    "    LEARNING_RATE = 0.001\n",
    "\n",
    "    Xk = X0\n",
    "\n",
    "    for i in range(maxIter):\n",
    "        if i%10 == 0:\n",
    "            pass\n",
    "            #print(i, tvCost(Y, Xk, beta))\n",
    "            #m2i(Xk)\n",
    "        Xnext = Xk - LEARNING_RATE * tvCostGrad(Y, Xk, BETA)\n",
    "        # init for next iteration\n",
    "        if tvCost(Y, Xk, beta) < tvCost(Y, Xnext, beta):\n",
    "            break\n",
    "        Xk = Xnext\n",
    "    return Xnext\n",
    "\n",
    "m2i(  denoiseTV(Y, 0.9, 90)  )"
   ]
  },
  {
   "cell_type": "markdown",
   "metadata": {},
   "source": [
    "## 5. Results"
   ]
  },
  {
   "cell_type": "code",
   "execution_count": null,
   "metadata": {
    "scrolled": false
   },
   "outputs": [],
   "source": [
    "fig = plt.figure()\n",
    "\n",
    "ax = fig.add_subplot(231)\n",
    "ax.title.set_text('Original Image')\n",
    "ax.imshow(m2i(Xreal))\n",
    "\n",
    "ax = fig.add_subplot(232)\n",
    "ax.title.set_text('Noisy Image')\n",
    "ax.imshow(m2i(Y))\n",
    "\n",
    "ax = fig.add_subplot(233)\n",
    "ax.title.set_text('TV B=0.3')\n",
    "ax.imshow(m2i(denoiseTV(Y, 0.3)))\n",
    "\n",
    "ax = fig.add_subplot(234)\n",
    "ax.title.set_text('TV B=0.7')\n",
    "ax.imshow(m2i(denoiseTV(Y, 0.7)))\n",
    "\n",
    "ax = fig.add_subplot(235)\n",
    "ax.title.set_text('TV B=0.9')\n",
    "ax.imshow(m2i(denoiseTV(Y, 0.9)))\n",
    "\n",
    "ax = fig.add_subplot(236)\n",
    "ax.title.set_text('TV B=1.1')\n",
    "ax.imshow(m2i(denoiseTV(Y, 1.1)))\n",
    "\n",
    "plt.show()\n",
    "plt.rcParams['figure.figsize'] = [16, 10]\n"
   ]
  },
  {
   "cell_type": "code",
   "execution_count": null,
   "metadata": {},
   "outputs": [],
   "source": []
  }
 ],
 "metadata": {
  "kernelspec": {
   "display_name": "Python 2",
   "language": "python",
   "name": "python2"
  },
  "language_info": {
   "codemirror_mode": {
    "name": "ipython",
    "version": 3
   },
   "file_extension": ".py",
   "mimetype": "text/x-python",
   "name": "python",
   "nbconvert_exporter": "python",
   "pygments_lexer": "ipython3",
   "version": "3.6.8"
  }
 },
 "nbformat": 4,
 "nbformat_minor": 2
}
